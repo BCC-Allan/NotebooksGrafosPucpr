{
 "cells": [
  {
   "cell_type": "markdown",
   "metadata": {},
   "source": [
    "# Aula 3"
   ]
  },
  {
   "cell_type": "markdown",
   "metadata": {},
   "source": [
    "Grafo não conexo, um grafo que possui nodulos não acessiveis"
   ]
  },
  {
   "cell_type": "code",
   "execution_count": 3,
   "metadata": {},
   "outputs": [],
   "source": [
    "mutable struct Vertice\n",
    "    nome::String\n",
    "end"
   ]
  },
  {
   "cell_type": "code",
   "execution_count": 6,
   "metadata": {},
   "outputs": [
    {
     "data": {
      "text/plain": [
       "mostrar_aresta (generic function with 1 method)"
      ]
     },
     "execution_count": 6,
     "metadata": {},
     "output_type": "execute_result"
    }
   ],
   "source": [
    "mutable struct Aresta\n",
    "    v1::Vertice\n",
    "    v2::Vertice\n",
    "    peso::Int64\n",
    "end"
   ]
  },
  {
   "cell_type": "code",
   "execution_count": 7,
   "metadata": {},
   "outputs": [],
   "source": [
    "mutable struct Grafo\n",
    "    arestas::Array{Aresta}\n",
    "end"
   ]
  },
  {
   "cell_type": "code",
   "execution_count": 8,
   "metadata": {},
   "outputs": [
    {
     "data": {
      "text/plain": [
       "Vertice(\"4\")"
      ]
     },
     "execution_count": 8,
     "metadata": {},
     "output_type": "execute_result"
    }
   ],
   "source": [
    "vertice1 = Vertice(\"1\")\n",
    "vertice2 = Vertice(\"2\")\n",
    "vertice3 = Vertice(\"3\")\n",
    "vertice4 = Vertice(\"4\")"
   ]
  },
  {
   "cell_type": "code",
   "execution_count": 9,
   "metadata": {},
   "outputs": [
    {
     "data": {
      "text/plain": [
       "Aresta(Vertice(\"1\"), Vertice(\"4\"), 1)"
      ]
     },
     "execution_count": 9,
     "metadata": {},
     "output_type": "execute_result"
    }
   ],
   "source": [
    "a1 = Aresta(vertice1, vertice2, 1)\n",
    "a2 = Aresta(vertice2, vertice2, 1)\n",
    "a3 = Aresta(vertice2, vertice3, 1)\n",
    "a4 = Aresta(vertice1, vertice3, 1)\n",
    "a5 = Aresta(vertice3, vertice4, 1)\n",
    "a6 = Aresta(vertice4, vertice3, 1)\n",
    "a7 = Aresta(vertice1, vertice4, 1)"
   ]
  },
  {
   "cell_type": "code",
   "execution_count": 10,
   "metadata": {},
   "outputs": [
    {
     "data": {
      "text/plain": [
       "7-element Array{Aresta,1}:\n",
       " Aresta(Vertice(\"1\"), Vertice(\"2\"), 1)\n",
       " Aresta(Vertice(\"2\"), Vertice(\"2\"), 1)\n",
       " Aresta(Vertice(\"2\"), Vertice(\"3\"), 1)\n",
       " Aresta(Vertice(\"1\"), Vertice(\"3\"), 1)\n",
       " Aresta(Vertice(\"3\"), Vertice(\"4\"), 1)\n",
       " Aresta(Vertice(\"4\"), Vertice(\"3\"), 1)\n",
       " Aresta(Vertice(\"1\"), Vertice(\"4\"), 1)"
      ]
     },
     "execution_count": 10,
     "metadata": {},
     "output_type": "execute_result"
    }
   ],
   "source": [
    "array_vertices = [a1, a2, a3, a4, a5, a6, a7]"
   ]
  },
  {
   "cell_type": "code",
   "execution_count": 11,
   "metadata": {},
   "outputs": [
    {
     "data": {
      "text/plain": [
       "Grafo(Aresta[Aresta(Vertice(\"1\"), Vertice(\"2\"), 1), Aresta(Vertice(\"2\"), Vertice(\"2\"), 1), Aresta(Vertice(\"2\"), Vertice(\"3\"), 1), Aresta(Vertice(\"1\"), Vertice(\"3\"), 1), Aresta(Vertice(\"3\"), Vertice(\"4\"), 1), Aresta(Vertice(\"4\"), Vertice(\"3\"), 1), Aresta(Vertice(\"1\"), Vertice(\"4\"), 1)])"
      ]
     },
     "execution_count": 11,
     "metadata": {},
     "output_type": "execute_result"
    }
   ],
   "source": [
    "grafo = Grafo(array_vertices)"
   ]
  },
  {
   "cell_type": "code",
   "execution_count": null,
   "metadata": {},
   "outputs": [],
   "source": []
  }
 ],
 "metadata": {
  "kernelspec": {
   "display_name": "Julia 1.0.4",
   "language": "julia",
   "name": "julia-1.0"
  },
  "language_info": {
   "file_extension": ".jl",
   "mimetype": "application/julia",
   "name": "julia",
   "version": "1.0.4"
  }
 },
 "nbformat": 4,
 "nbformat_minor": 4
}
