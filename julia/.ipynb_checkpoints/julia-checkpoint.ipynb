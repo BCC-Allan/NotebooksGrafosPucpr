{
 "cells": [
  {
   "cell_type": "markdown",
   "metadata": {},
   "source": [
    "# Aula 3"
   ]
  },
  {
   "cell_type": "markdown",
   "metadata": {},
   "source": [
    "Grafo não conexo, um grafo que possui nodulos não acessiveis"
   ]
  },
  {
   "cell_type": "code",
   "execution_count": 3,
   "metadata": {},
   "outputs": [],
   "source": [
    "mutable struct Vertice\n",
    "    nome::String\n",
    "end"
   ]
  },
  {
   "cell_type": "code",
   "execution_count": 4,
   "metadata": {},
   "outputs": [
    {
     "data": {
      "text/plain": [
       "mostrar_aresta (generic function with 1 method)"
      ]
     },
     "execution_count": 4,
     "metadata": {},
     "output_type": "execute_result"
    }
   ],
   "source": [
    "mutable struct Aresta\n",
    "    v1::Vertice\n",
    "    v2::Vertice\n",
    "    peso::Int64 = 1\n",
    "end\n",
    "\n",
    "function mostrar_aresta(self::Aresta)\n",
    "    println(self.v1)\n",
    "    println(self.v2)\n",
    "end"
   ]
  },
  {
   "cell_type": "code",
   "execution_count": 5,
   "metadata": {},
   "outputs": [],
   "source": [
    "mutable struct Grafo\n",
    "    arestas::Array{Aresta}\n",
    "end"
   ]
  },
  {
   "cell_type": "code",
   "execution_count": 11,
   "metadata": {},
   "outputs": [
    {
     "data": {
      "text/plain": [
       "Vertice(\"4\")"
      ]
     },
     "execution_count": 11,
     "metadata": {},
     "output_type": "execute_result"
    }
   ],
   "source": [
    "vertice1 = Vertice(\"1\")\n",
    "vertice2 = Vertice(\"2\")\n",
    "vertice3 = Vertice(\"3\")\n",
    "vertice4 = Vertice(\"4\")"
   ]
  },
  {
   "cell_type": "code",
   "execution_count": 13,
   "metadata": {},
   "outputs": [
    {
     "data": {
      "text/plain": [
       "Aresta(Vertice(\"1\"), Vertice(\"2\"), 1)"
      ]
     },
     "execution_count": 13,
     "metadata": {},
     "output_type": "execute_result"
    }
   ],
   "source": [
    "a1 = Aresta(vertice1, vertice2, 1)\n",
    "a2 = Aresta(vertice2, vertice2, 1)\n",
    "a3 = Aresta(vertice2, vertice3, 1)\n",
    "a4 = Aresta(vertice1, vertice2, 1)\n",
    "a5 = Aresta(vertice1, vertice2, 1)\n",
    "a6 = Aresta(vertice1, vertice2, 1)\n",
    "a7 = Aresta(vertice1, vertice2, 1)"
   ]
  },
  {
   "cell_type": "code",
   "execution_count": null,
   "metadata": {},
   "outputs": [],
   "source": []
  }
 ],
 "metadata": {
  "kernelspec": {
   "display_name": "Julia 1.0.4",
   "language": "julia",
   "name": "julia-1.0"
  },
  "language_info": {
   "file_extension": ".jl",
   "mimetype": "application/julia",
   "name": "julia",
   "version": "1.0.4"
  }
 },
 "nbformat": 4,
 "nbformat_minor": 4
}
